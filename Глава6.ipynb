{
  "cells": [
    {
      "cell_type": "markdown",
      "source": [
        "# **Глава 6. Кластеризация**"
      ],
      "metadata": {
        "id": "fazmwnV8seFq"
      },
      "id": "fazmwnV8seFq"
    },
    {
      "cell_type": "markdown",
      "id": "f9385137-fba8-4e46-8f3a-7b738b1c626b",
      "metadata": {
        "id": "f9385137-fba8-4e46-8f3a-7b738b1c626b"
      },
      "source": [
        "*Вопрос 1: Оцените евклидово расстояние между векторами $\\ x_{1}$ {2, 5, 3 ,7} и $\\ x_{2}$ {2, 7, 1, 5}.*"
      ]
    },
    {
      "cell_type": "markdown",
      "source": [
        "Ответ: В коде ниже представлено вычисление евклидова расстояния между двумя векторами с использованием нормы разности между векторами. Результатом программы является вывод ответа на задание."
      ],
      "metadata": {
        "id": "iqQjYgqWtViH"
      },
      "id": "iqQjYgqWtViH"
    },
    {
      "cell_type": "code",
      "execution_count": 2,
      "id": "369b9940-a8af-4f77-8236-cb16aa5d1c3d",
      "metadata": {
        "id": "369b9940-a8af-4f77-8236-cb16aa5d1c3d",
        "outputId": "128af526-350d-44ce-df15-a0131482ef97",
        "colab": {
          "base_uri": "https://localhost:8080/"
        }
      },
      "outputs": [
        {
          "output_type": "stream",
          "name": "stdout",
          "text": [
            "Ответ: 3.4641016151377544\n"
          ]
        }
      ],
      "source": [
        "import numpy as np\n",
        "x1 = np.array([2, 5, 3, 7])\n",
        "x2 = np.array([2, 7, 1, 5])\n",
        "distance = np.linalg.norm(x1 - x2)\n",
        "print(\"Ответ:\", distance)"
      ]
    },
    {
      "cell_type": "markdown",
      "id": "3e432fc9-9da3-4ec4-a960-a3d34578c8d8",
      "metadata": {
        "id": "3e432fc9-9da3-4ec4-a960-a3d34578c8d8"
      },
      "source": [
        "*Вопрос 2: Оцените расстояние Чебышева между векторами $\\ x_{1}$ {0, 10, 4, 9} и $\\ x_{2}$ {3, 7, 0, 2}.*"
      ]
    },
    {
      "cell_type": "markdown",
      "source": [
        "Ответ: В коде ниже представлено вычисление расстояния Чебышева между двумя векторами посредством нахождения абсолютной разности между компонентами двух векторов, а после вычисления максимального значения среди этих различий. Это максимальное различие и является расстоянием Чебышева. Результатом программы является вывод ответа на задание.\n"
      ],
      "metadata": {
        "id": "TeJGK4XKuFEb"
      },
      "id": "TeJGK4XKuFEb"
    },
    {
      "cell_type": "code",
      "execution_count": 3,
      "id": "68b3a9c3-5424-40a3-8e7c-0ca636ff11f6",
      "metadata": {
        "id": "68b3a9c3-5424-40a3-8e7c-0ca636ff11f6",
        "outputId": "239c3c88-6275-4742-bb3d-3513bbbf21fc",
        "colab": {
          "base_uri": "https://localhost:8080/"
        }
      },
      "outputs": [
        {
          "output_type": "stream",
          "name": "stdout",
          "text": [
            "Ответ: 7\n"
          ]
        }
      ],
      "source": [
        "import numpy as np\n",
        "x1 = np.array([0, 10, 4, 9])\n",
        "x2 = np.array([3, 7, 0, 2])\n",
        "distance = np.max(np.abs(x1 - x2))\n",
        "print(\"Ответ:\", distance)"
      ]
    },
    {
      "cell_type": "markdown",
      "id": "528416bc-6f37-44b6-bc07-cc169b7f8386",
      "metadata": {
        "id": "528416bc-6f37-44b6-bc07-cc169b7f8386"
      },
      "source": [
        "*Вопрос 3: Есть три центроида $\\ c_{1}$ {1, 0, 0}, $\\ c_{2}$ {0, 1, 1}, $\\ c_{3}$ {1, 0, 1} и точка $\\ x$ с координатами {2, 0, 2}. К какому кластеру следует отнести эту точку при использовании евклидовой метрики расстояния?*"
      ]
    },
    {
      "cell_type": "markdown",
      "source": [
        "Ответ: В коде ниже представлено процесс определения кластера, в который следует отнести точку, используя евклидову метрику расстояния. Результатом программы является вывод ответа на задание."
      ],
      "metadata": {
        "id": "LzjyBL_6vLGe"
      },
      "id": "LzjyBL_6vLGe"
    },
    {
      "cell_type": "code",
      "execution_count": 5,
      "id": "77d1199b-c83d-47fd-aef0-68ce1038fd20",
      "metadata": {
        "id": "77d1199b-c83d-47fd-aef0-68ce1038fd20",
        "outputId": "1e0eca57-4174-4e06-ab3d-99084ab23024",
        "colab": {
          "base_uri": "https://localhost:8080/"
        }
      },
      "outputs": [
        {
          "output_type": "stream",
          "name": "stdout",
          "text": [
            "Центроид, к которому точка x ближе всего: c 3\n"
          ]
        }
      ],
      "source": [
        "import numpy as np\n",
        "\n",
        "c1 = np.array([1, 0, 0])\n",
        "c2 = np.array([0, 1, 1])\n",
        "c3 = np.array([1, 0, 1])\n",
        "x = np.array([2, 0, 2])\n",
        "\n",
        "def euclidean_distance(a, b): # Функция, вычисляющая евклидово расстояние\n",
        "    return np.linalg.norm(a - b)\n",
        "\n",
        "distances = [euclidean_distance(x, c) for c in [c1, c2, c3]] # Вычисление расстояний до всех центроидов\n",
        "closest_centroid_index = np.argmin(distances) # Определение ближайшего центроида\n",
        "print(\"Центроид, к которому точка x ближе всего: c\", closest_centroid_index + 1)"
      ]
    },
    {
      "cell_type": "markdown",
      "id": "2e5e2d13-6581-4a07-ab52-62da7cda9321",
      "metadata": {
        "id": "2e5e2d13-6581-4a07-ab52-62da7cda9321"
      },
      "source": [
        "*Вопрос 4: Как называется метод определения оптимального числа k (кластеров) с использованием анализа инерции?*"
      ]
    },
    {
      "cell_type": "markdown",
      "id": "57e28f2d-de57-40cd-a754-0fb2838a32e1",
      "metadata": {
        "id": "57e28f2d-de57-40cd-a754-0fb2838a32e1"
      },
      "source": [
        "Ответ: Метод определения оптимального числа кластеров с использованием анализа инерции называется \"метод локтя\" (Elbow Method).\n",
        "\n",
        "Суть метода локтя:\n",
        "1. Запускаем алгоритм кластеризации (например, k-means) для разного числа кластеров k (например, от 1 до 10).\n",
        "\n",
        "2. Для каждого значения k вычисляем инерцию (сумму квадратов расстояний точек до их ближайшего центроида).\n",
        "\n",
        "3. Строим график зависимости инерции от k.\n",
        "\n",
        "4. На графике ищем \"локоть\" — точку, после которой уменьшение инерции становится менее заметным (замедляется).\n",
        "\n",
        "5. Оптимальное значение k соответствует изгибу графика.\n",
        "\n",
        "Метод локтя помогает определить оптимальное количество кластеров, анализируя изменение инерции при увеличении k.\n",
        "\n",
        "Оптимальное число кластеров — это баланс между компактностью кластеров и их разделением."
      ]
    }
  ],
  "metadata": {
    "kernelspec": {
      "display_name": "Python 3 (ipykernel)",
      "language": "python",
      "name": "python3"
    },
    "language_info": {
      "codemirror_mode": {
        "name": "ipython",
        "version": 3
      },
      "file_extension": ".py",
      "mimetype": "text/x-python",
      "name": "python",
      "nbconvert_exporter": "python",
      "pygments_lexer": "ipython3",
      "version": "3.12.6"
    },
    "colab": {
      "provenance": []
    }
  },
  "nbformat": 4,
  "nbformat_minor": 5
}